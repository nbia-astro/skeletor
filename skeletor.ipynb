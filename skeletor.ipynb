{
 "cells": [
  {
   "cell_type": "markdown",
   "metadata": {},
   "source": [
    "Enable `Matplotlib` magic."
   ]
  },
  {
   "cell_type": "code",
   "execution_count": 1,
   "metadata": {
    "collapsed": true
   },
   "outputs": [],
   "source": [
    "%matplotlib inline\n",
    "import matplotlib.pyplot as plt\n",
    "plt.rc('image', origin='lower', interpolation='nearest')"
   ]
  },
  {
   "cell_type": "markdown",
   "metadata": {},
   "source": [
    "Create `ipyparallel` clients. This also enables a few magic commands for parallel execution.\n",
    "The documentation of `ipyparallel` is available [here](https://ipyparallel.readthedocs.io/en/latest/). How to setup `ipyparallel` to work with `MPI` is described [here](https://ipyparallel.readthedocs.io/en/latest/process.html#using-ipcluster-in-mpiexec-mpirun-mode)."
   ]
  },
  {
   "cell_type": "code",
   "execution_count": 2,
   "metadata": {
    "collapsed": false
   },
   "outputs": [],
   "source": [
    "from ipyparallel import Client\n",
    "c = Client(profile=\"mpi\")"
   ]
  },
  {
   "cell_type": "markdown",
   "metadata": {},
   "source": [
    "Convenience functions for visualizing fields and particles"
   ]
  },
  {
   "cell_type": "code",
   "execution_count": 3,
   "metadata": {
    "collapsed": false
   },
   "outputs": [],
   "source": [
    "def visualize_field(var):\n",
    "    \n",
    "    # Number of clients\n",
    "    nid = len(c.ids)\n",
    "\n",
    "    # Create figure\n",
    "    fig, axes = plt.subplots(nrows=nid, figsize=(6, 7), sharex=True)\n",
    "    # Remove white space, see http://stackoverflow.com/a/13663328\n",
    "    plt.setp(axes.flat, aspect=1.0, adjustable='box-forced')\n",
    "\n",
    "    # Global minimum and maximum of density field\n",
    "    vmin = min(c[:][var + '.min()'])\n",
    "    vmax = max(c[:][var + '.max()'])\n",
    "\n",
    "    # Loop over clients/processors\n",
    "    for v in c:\n",
    "\n",
    "        # Axis ID. The order of subplots created by plt.subplots() is \"reversed\",\n",
    "        # i.e. the upper-most subplot is axes[0] and the lower-most is axes[len(c.ids) - 1]\n",
    "        iax = nid - 1 - v['idproc']\n",
    "\n",
    "        # Axes extent\n",
    "        extent = [0, v['grid.nx'], v['grid.noff'], v['grid.noff'] + v['grid.nyp']]\n",
    "\n",
    "        # Plot density from each processor on the corresponding axis\n",
    "        axes[iax].imshow(v[var], vmin=vmin, vmax=vmax, extent=extent)\n",
    "\n",
    "        # y-axis label\n",
    "        axes[iax].set_ylabel('y')\n",
    "\n",
    "    # x-axis label\n",
    "    axes[-1].set_xlabel('x')\n",
    "\n",
    "\n",
    "def visualize_particles(var):\n",
    "    \n",
    "    # Number of clients\n",
    "    nid = len(c.ids)\n",
    "\n",
    "    # Create figure\n",
    "    fig, axes = plt.subplots(ncols=nid, figsize=(10, 7), sharey=True)\n",
    "\n",
    "    # Loop over clients/processors\n",
    "    for v in c:\n",
    "\n",
    "        # Axis ID\n",
    "        iax = v['idproc']\n",
    "        \n",
    "        # Plot the particles' y-coordinate vs the particle ID (i.e. array index)\n",
    "        axes[iax].plot(*zip(*enumerate(v[var + \"[:\" + var + \".np]['y']\"])))\n",
    "\n",
    "        # Adjust axes limits\n",
    "        axes[iax].set_xlim(0, v[var + '.np'])\n",
    "        axes[iax].set_ylim(0, v['grid.ny'])\n",
    "\n",
    "        # x-axis label\n",
    "        axes[iax].set_xlabel('Particle ID')\n",
    "\n",
    "    # y-axis label\n",
    "    axes[0].set_ylabel('y')"
   ]
  },
  {
   "cell_type": "markdown",
   "metadata": {},
   "source": [
    "Set various simulation parameters"
   ]
  },
  {
   "cell_type": "code",
   "execution_count": 4,
   "metadata": {
    "collapsed": false
   },
   "outputs": [],
   "source": [
    "%%px\n",
    "\n",
    "# Number of grid points in x- and y-direction\n",
    "nx, ny = 32, 32\n",
    "\n",
    "# Average number of particles per cell\n",
    "npc = 256\n",
    "\n",
    "# Particle charge and mass\n",
    "charge = -1.0\n",
    "mass = 1.0\n",
    "\n",
    "# Thermal velocity of electrons in x- and y-direction\n",
    "vtx, vty = 1.0, 1.0\n",
    "# Drift velocity of electrons in x- and y-direction\n",
    "vdx, vdy = 0.0, 0.0\n",
    "\n",
    "# Smoothed particle size\n",
    "ax, ay = 0.912871, 0.912871\n",
    "\n",
    "# Time interval between successive calculations\n",
    "dt = 0.1"
   ]
  },
  {
   "cell_type": "markdown",
   "metadata": {},
   "source": [
    "Initialize particles' phase space coordinates"
   ]
  },
  {
   "cell_type": "code",
   "execution_count": 5,
   "metadata": {
    "collapsed": false
   },
   "outputs": [],
   "source": [
    "%%px\n",
    "\n",
    "from skeletor import Float\n",
    "import numpy\n",
    "from mpi4py import MPI\n",
    "\n",
    "# Short hand for MPI communicator\n",
    "comm = MPI.COMM_WORLD\n",
    "\n",
    "# Synchronize random number generator across ALL processes\n",
    "numpy.random.set_state(comm.bcast(numpy.random.get_state()))\n",
    "\n",
    "# Total number of particles in simulation\n",
    "np = npc*nx*ny\n",
    "\n",
    "# Uniform distribution of particle positions\n",
    "x = nx*numpy.random.uniform(size=np).astype(Float)\n",
    "y = nx*numpy.random.uniform(size=np).astype(Float)\n",
    "# Normal distribution of particle velocities\n",
    "vx = vdx + vtx*numpy.random.normal(size=np).astype(Float)\n",
    "vy = vdy + vty*numpy.random.normal(size=np).astype(Float)"
   ]
  },
  {
   "cell_type": "markdown",
   "metadata": {},
   "source": [
    "Create particle array on each processor"
   ]
  },
  {
   "cell_type": "code",
   "execution_count": 6,
   "metadata": {
    "collapsed": false
   },
   "outputs": [],
   "source": [
    "%%px\n",
    "\n",
    "from skeletor import cppinit, Grid, Particles\n",
    "\n",
    "# Start parallel processing\n",
    "idproc, nvp = cppinit(comm)\n",
    "\n",
    "# Create numerical grid\n",
    "grid = Grid(nx, ny, comm)\n",
    "\n",
    "# Maximum number of electrons in each partition\n",
    "npmax = int(1.5*np/nvp)\n",
    "\n",
    "# Create particle array\n",
    "electrons = Particles(npmax, charge, mass)\n",
    "\n",
    "# Assign particles to subdomains\n",
    "electrons.initialize(x, y, vx, vy, grid)\n",
    "\n",
    "# Make sure the numbers of particles in each subdomain add up to the total\n",
    "# number of particles\n",
    "assert comm.allreduce(electrons.np, op=MPI.SUM) == np"
   ]
  },
  {
   "cell_type": "markdown",
   "metadata": {},
   "source": [
    "Deposit charge on each processor"
   ]
  },
  {
   "cell_type": "code",
   "execution_count": 7,
   "metadata": {
    "collapsed": false
   },
   "outputs": [],
   "source": [
    "%%px\n",
    "\n",
    "from skeletor import Sources\n",
    "\n",
    "# Initialize sources\n",
    "sources = Sources(grid, comm, dtype=Float)\n",
    "\n",
    "# Deposit charge\n",
    "sources.deposit_ppic2(electrons)\n",
    "\n",
    "# Make sure the total amount charge deposited on each processor is equal to\n",
    "# the number of particles on that processor times the particle charge\n",
    "assert numpy.isclose(sources.rho.sum(), electrons.np*charge)"
   ]
  },
  {
   "cell_type": "code",
   "execution_count": 8,
   "metadata": {
    "collapsed": false
   },
   "outputs": [
    {
     "data": {
      "image/png": "[encoded data removed]",
      "text/plain": [
       "<matplotlib.figure.Figure at 0x11248d898>"
      ]
     },
     "metadata": {},
     "output_type": "display_data"
    }
   ],
   "source": [
    "visualize_field('sources.rho')"
   ]
  },
  {
   "cell_type": "markdown",
   "metadata": {},
   "source": [
    "Add charge from guard cells of neighboring processors. Afterwards erase charge in guard cells."
   ]
  },
  {
   "cell_type": "code",
   "execution_count": 9,
   "metadata": {
    "collapsed": false
   },
   "outputs": [],
   "source": [
    "%%px\n",
    "\n",
    "# Add charge from guard cells\n",
    "sources.rho.add_guards_ppic2()\n",
    "\n",
    "# Make sure that the total amount of charge deposit in the active cells on *all* processors\n",
    "# is equal to the *total* number of particles times the particle charge\n",
    "assert numpy.isclose(comm.allreduce(sources.rho.trim().sum(), op=MPI.SUM), np*charge)"
   ]
  },
  {
   "cell_type": "code",
   "execution_count": 10,
   "metadata": {
    "collapsed": false
   },
   "outputs": [
    {
     "data": {
      "image/png": "[encoded data removed]",
      "text/plain": [
       "<matplotlib.figure.Figure at 0x112e82978>"
      ]
     },
     "metadata": {},
     "output_type": "display_data"
    }
   ],
   "source": [
    "visualize_field('sources.rho')"
   ]
  },
  {
   "cell_type": "markdown",
   "metadata": {},
   "source": [
    "Compute force field from Gauss' law and push particles"
   ]
  },
  {
   "cell_type": "code",
   "execution_count": 11,
   "metadata": {
    "collapsed": false
   },
   "outputs": [],
   "source": [
    "%%px\n",
    "\n",
    "from skeletor import Field, Float2, Poisson\n",
    "\n",
    "# Intialize force field\n",
    "fxy = Field(grid, comm, dtype=Float2)\n",
    "\n",
    "# Initialize Poisson solver\n",
    "poisson = Poisson(grid, ax, ay, np)\n",
    "\n",
    "# Solve Gauss' law\n",
    "ttp, we = poisson(sources.rho, fxy)\n",
    "# Apply boundary condition\n",
    "fxy.copy_guards_ppic2()\n",
    "\n",
    "# Push particles\n",
    "ek = electrons.push(fxy, dt)"
   ]
  },
  {
   "cell_type": "code",
   "execution_count": 12,
   "metadata": {
    "collapsed": false,
    "scrolled": false
   },
   "outputs": [
    {
     "data": {
      "image/png": "[encoded data removed]",
      "text/plain": [
       "<matplotlib.figure.Figure at 0x1130b4d30>"
      ]
     },
     "metadata": {},
     "output_type": "display_data"
    }
   ],
   "source": [
    "visualize_particles('electrons')"
   ]
  },
  {
   "cell_type": "markdown",
   "metadata": {},
   "source": [
    "Sort particles according to their y-coordinate"
   ]
  },
  {
   "cell_type": "code",
   "execution_count": 13,
   "metadata": {
    "collapsed": false
   },
   "outputs": [],
   "source": [
    "%%px\n",
    "\n",
    "from skeletor import ParticleSort\n",
    "\n",
    "# Initialize particle sort\n",
    "sort = ParticleSort(grid)\n",
    "\n",
    "# Create a second particle array.\n",
    "electrons2 = Particles(npmax, charge, mass)\n",
    "\n",
    "# Sort particles out-of-place according to their cell index in y\n",
    "sort(electrons, electrons2)"
   ]
  },
  {
   "cell_type": "code",
   "execution_count": 14,
   "metadata": {
    "collapsed": false
   },
   "outputs": [
    {
     "data": {
      "image/png": "[encoded data removed]",
      "text/plain": [
       "<matplotlib.figure.Figure at 0x112fee710>"
      ]
     },
     "metadata": {},
     "output_type": "display_data"
    }
   ],
   "source": [
    "visualize_particles('electrons2')"
   ]
  },
  {
   "cell_type": "code",
   "execution_count": null,
   "metadata": {
    "collapsed": true
   },
   "outputs": [],
   "source": []
  }
 ],
 "metadata": {
  "kernelspec": {
   "display_name": "Python 3",
   "language": "python",
   "name": "python3"
  },
  "language_info": {
   "codemirror_mode": {
    "name": "ipython",
    "version": 3
   },
   "file_extension": ".py",
   "mimetype": "text/x-python",
   "name": "python",
   "nbconvert_exporter": "python",
   "pygments_lexer": "ipython3",
   "version": "3.5.2"
  }
 },
 "nbformat": 4,
 "nbformat_minor": 0
}
