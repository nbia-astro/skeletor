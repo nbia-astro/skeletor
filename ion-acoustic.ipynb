{
 "cells": [
  {
   "cell_type": "markdown",
   "metadata": {},
   "source": [
    "Ion-acoustic waves in Jupyter with MPI"
   ]
  },
  {
   "cell_type": "code",
   "execution_count": null,
   "metadata": {
    "collapsed": true
   },
   "outputs": [],
   "source": [
    "%matplotlib inline"
   ]
  },
  {
   "cell_type": "code",
   "execution_count": null,
   "metadata": {
    "collapsed": true
   },
   "outputs": [],
   "source": [
    "import matplotlib.pyplot as plt\n",
    "from matplotlib import animation, rc\n",
    "plt.rc('image', origin='lower', interpolation='nearest')\n",
    "from IPython.display import HTML"
   ]
  },
  {
   "cell_type": "code",
   "execution_count": null,
   "metadata": {
    "collapsed": true
   },
   "outputs": [],
   "source": [
    "from ipyparallel import Client\n",
    "c = Client(profile=\"mpi\")"
   ]
  },
  {
   "cell_type": "code",
   "execution_count": null,
   "metadata": {
    "collapsed": false
   },
   "outputs": [],
   "source": [
    "%%px\n",
    "from skeletor import cppinit, Float, Float2, Grid, Field, Particles, Sources, Ohm\n",
    "import numpy\n",
    "from mpi4py import MPI\n",
    "import matplotlib.pyplot as plt\n",
    "from mpi4py.MPI import COMM_WORLD as comm\n",
    "\n",
    "# Quiet start\n",
    "quiet = True\n",
    "\n",
    "# Number of grid points in x- and y-direction\n",
    "nx, ny = 32, 32\n",
    "\n",
    "# Average number of particles per cell\n",
    "npc = 256\n",
    "assert(int(numpy.sqrt(npc)) % 1 = 0)\n",
    "# Particle charge and mass\n",
    "charge = 1.0\n",
    "mass = 1.0\n",
    "\n",
    "# Thermal velocity of electrons in x- and y-direction\n",
    "vtx, vty = 0.0, 0.0\n",
    "# Velocity perturbation of ions in x- and y-direction\n",
    "vdx, vdy = 0.001, 0.001\n",
    "\n",
    "# Timestep\n",
    "dt = 0.1\n",
    "\n",
    "# Total number of particles in simulation\n",
    "npar = npc*nx*ny\n",
    "\n",
    "# Wavenumbers\n",
    "kx = 2*numpy.pi/nx\n",
    "ky = 2*numpy.pi/ny\n",
    "\n",
    "if quiet:\n",
    "    # Uniform distribution of particle positions (quiet start)\n",
    "    dx = 1/int(numpy.sqrt(npc))\n",
    "    dy = dx\n",
    "    X = numpy.arange(0,nx,dx)\n",
    "    Y = numpy.arange(0,ny,dy)\n",
    "    x, y = numpy.meshgrid(X, Y)\n",
    "    x = x.flatten()\n",
    "    y = y.flatten()\n",
    "else:\n",
    "    x = nx*numpy.random.uniform(size=npar).astype(Float)\n",
    "    y = ny*numpy.random.uniform(size=npar).astype(Float)\n",
    "\n",
    "# Normal distribution of particle velocities\n",
    "vx = vdx*numpy.sin(kx*x) + vtx*numpy.random.normal(size=npar).astype(Float)\n",
    "vy = vdy*numpy.sin(kx*y) + vty*numpy.random.normal(size=npar).astype(Float)"
   ]
  },
  {
   "cell_type": "code",
   "execution_count": null,
   "metadata": {
    "collapsed": false
   },
   "outputs": [],
   "source": [
    "%%px\n",
    "# Start parallel processing\n",
    "idproc, nvp = cppinit(comm)\n",
    "\n",
    "# Concatenate local arrays to obtain global arrays\n",
    "# The result is available on all processors.\n",
    "def concatenate(arr):\n",
    "    return numpy.concatenate(comm.allgather(arr))\n",
    "\n",
    "# Create numerical grid. This contains information about the extent of\n",
    "# the subdomain assigned to each processor.\n",
    "grid = Grid(nx, ny, comm)\n",
    "\n",
    "# Maximum number of electrons in each partition\n",
    "npmax = int(1.5*npar/nvp)\n",
    "\n",
    "# Create particle array\n",
    "ions = Particles(npmax, charge, mass)\n",
    "\n",
    "# Assign particles to subdomains\n",
    "ions.initialize(x, y, vx, vy, grid)\n"
   ]
  },
  {
   "cell_type": "code",
   "execution_count": null,
   "metadata": {
    "collapsed": true
   },
   "outputs": [],
   "source": [
    "%%px\n",
    "# Set the force to zero (this will of course change in the future).\n",
    "fxy = Field(grid, comm, dtype=Float2)\n",
    "fxy.fill(0.0)\n",
    "\n",
    "# Initialize sources\n",
    "sources = Sources(grid, comm, dtype=Float)\n",
    "\n",
    "# Initialize Ohm's law solver\n",
    "ohm = Ohm(grid, temperature=1.0, charge=charge)\n",
    "\n",
    "# Calculate initial density and force\n",
    "\n",
    "# Deposit sources\n",
    "sources.deposit(ions)\n",
    "# Adjust density (we should do this somewhere else)\n",
    "sources.rho /= npc\n",
    "sources.rho.add_guards()\n",
    "sources.rho.copy_guards()\n",
    "\n",
    "# Calculate forces (Solve Ohm's law)\n",
    "ohm(sources.rho, fxy, destroy_input=False)"
   ]
  },
  {
   "cell_type": "code",
   "execution_count": null,
   "metadata": {
    "collapsed": false
   },
   "outputs": [],
   "source": [
    "%px rho_global = np.concatenate(comm.allgather(sources.rho.trim()))\n",
    "fig = plt.figure()\n",
    "im = plt.imshow(c[0]['rho_global'], animated=True,vmin=0.999, vmax=1.001)"
   ]
  },
  {
   "cell_type": "code",
   "execution_count": null,
   "metadata": {
    "collapsed": false
   },
   "outputs": [],
   "source": [
    "%%capture\n",
    "def updatefig(*args):\n",
    "    # Push particles on each processor. This call also sends and\n",
    "    # receives particles to and from other processors/subdomains. The\n",
    "    # latter is the only non-trivial step in the entire code so far.\n",
    "    %px ions.push(fxy, dt)\n",
    "\n",
    "    # Deposit sources\n",
    "    %px sources.deposit(ions)\n",
    "    # Adjust density (we should do this somewhere else)\n",
    "    %px sources.rho /= npc\n",
    "    %px sources.rho.add_guards()\n",
    "    %px sources.rho.copy_guards()\n",
    "    \n",
    "    # Calculate forces (Solve Ohm's law)\n",
    "    %px ohm(sources.rho, fxy, destroy_input=False)\n",
    "    %px rho_global = np.concatenate(comm.allgather(sources.rho.trim()))\n",
    "    im.set_array(c[0]['rho_global'])\n",
    "    im.autoscale()\n",
    "    return im,\n",
    "    \n",
    "anim = animation.FuncAnimation(fig, updatefig, frames=200, blit=True)"
   ]
  },
  {
   "cell_type": "code",
   "execution_count": null,
   "metadata": {
    "collapsed": false
   },
   "outputs": [],
   "source": [
    "%%capture\n",
    "HTML(anim.to_html5_video())"
   ]
  },
  {
   "cell_type": "code",
   "execution_count": null,
   "metadata": {
    "collapsed": false
   },
   "outputs": [],
   "source": [
    "%%capture\n",
    "anim.save('animation.mp4', writer='ffmpeg', fps=60)"
   ]
  }
 ],
 "metadata": {
  "kernelspec": {
   "display_name": "Python 3",
   "language": "python",
   "name": "python3"
  },
  "language_info": {
   "codemirror_mode": {
    "name": "ipython",
    "version": 3
   },
   "file_extension": ".py",
   "mimetype": "text/x-python",
   "name": "python",
   "nbconvert_exporter": "python",
   "pygments_lexer": "ipython3",
   "version": "3.5.1"
  }
 },
 "nbformat": 4,
 "nbformat_minor": 0
}
