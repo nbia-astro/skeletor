{
 "cells": [
  {
   "cell_type": "code",
   "execution_count": 1,
   "metadata": {
    "collapsed": true
   },
   "outputs": [],
   "source": [
    "%load_ext Cython\n",
    "%matplotlib inline\n",
    "import matplotlib.pyplot as plt\n",
    "plt.rc('image', origin='lower', interpolation='nearest')"
   ]
  },
  {
   "cell_type": "code",
   "execution_count": 2,
   "metadata": {
    "collapsed": true
   },
   "outputs": [],
   "source": [
    "import os\n",
    "os.environ['CC'] = 'gcc-6'"
   ]
  },
  {
   "cell_type": "code",
   "execution_count": 57,
   "metadata": {
    "collapsed": false
   },
   "outputs": [],
   "source": [
    "%%cython --compile-args=-Ofast\n",
    "\n",
    "cimport cython\n",
    "from cython.parallel import prange, parallel\n",
    "\n",
    "ctypedef double real_t\n",
    "cdef struct real2_t:\n",
    "    real_t x, y, z\n",
    "cdef struct particle_t:\n",
    "    real_t x, y, vx, vy, vz\n",
    "\n",
    "cdef class grid_t:\n",
    "    \"\"\"Grid extension type.\n",
    "    This is inherited by the Grid class (see grid.py).\"\"\"\n",
    "    # TODO: Either define *all* attributes of the grid class or only those that\n",
    "    # are actually needed\n",
    "    cdef public int noff\n",
    "    cdef public int lbx, lby\n",
    "\n",
    "@cython.boundscheck(False)\n",
    "@cython.wraparound(False)\n",
    "def deposit_inline(\n",
    "        particle_t[:] particles, real_t[:, :] density, real2_t[:,:] J, grid_t grid, real_t S):\n",
    "\n",
    "    cdef int Np = particles.shape[0]\n",
    "    cdef int ip\n",
    "\n",
    "    # Density deposition\n",
    "    for ip in range(Np):\n",
    "        deposit_particle(particles[ip], density, J, grid, S)\n",
    "\n",
    "@cython.boundscheck(False)\n",
    "@cython.wraparound(False)\n",
    "cdef inline void deposit_particle(particle_t particle, real_t[:,:] density,\n",
    "                    real2_t[:,:] J, grid_t grid, real_t S) nogil:\n",
    "\n",
    "        cdef int ix, iy\n",
    "        cdef real_t tx, ty, dx, dy\n",
    "\n",
    "        ix = <int> particle.x\n",
    "        iy = <int> particle.y\n",
    "\n",
    "        dx = particle.x - <real_t> ix\n",
    "        dy = particle.y - <real_t> iy\n",
    "\n",
    "        tx = 1.0 - dx\n",
    "        ty = 1.0 - dy\n",
    "\n",
    "        iy = iy - grid.noff\n",
    "\n",
    "        ix = ix + grid.lbx\n",
    "        iy = iy + grid.lby\n",
    "\n",
    "        density[iy  , ix  ] += ty*tx\n",
    "        density[iy  , ix+1] += ty*dx\n",
    "        density[iy+1, ix  ] += dy*tx\n",
    "        density[iy+1, ix+1] += dy*dx\n",
    "\n",
    "        J[iy  , ix  ].x += ty*tx*(particle.vx + S*particle.y)\n",
    "        J[iy  , ix+1].x += ty*dx*(particle.vx + S*particle.y)\n",
    "        J[iy+1, ix  ].x += dy*tx*(particle.vx + S*particle.y)\n",
    "        J[iy+1, ix+1].x += dy*dx*(particle.vx + S*particle.y)\n",
    "\n",
    "        J[iy  , ix  ].y += ty*tx*particle.vy\n",
    "        J[iy  , ix+1].y += ty*dx*particle.vy\n",
    "        J[iy+1, ix  ].y += dy*tx*particle.vy\n",
    "        J[iy+1, ix+1].y += dy*dx*particle.vy\n",
    "\n",
    "        J[iy  , ix  ].z += ty*tx*particle.vz\n",
    "        J[iy  , ix+1].z += ty*dx*particle.vz\n",
    "        J[iy+1, ix  ].z += dy*tx*particle.vz\n",
    "        J[iy+1, ix+1].z += dy*dx*particle.vz\n",
    "\n",
    "@cython.boundscheck(False)\n",
    "@cython.wraparound(False)\n",
    "def deposit(\n",
    "        particle_t[:] particles, real_t[:, :] density, real2_t[:,:] J, grid_t grid, real_t S):\n",
    "\n",
    "    cdef int Np = particles.shape[0]\n",
    "    cdef int ip\n",
    "    cdef int ix, iy\n",
    "    cdef real_t tx, ty, dx, dy\n",
    "\n",
    "    # Density deposition\n",
    "    for ip in range(Np):\n",
    "\n",
    "        ix = <int> particles[ip].x\n",
    "        iy = <int> particles[ip].y\n",
    "\n",
    "        dx = particles[ip].x - <real_t> ix\n",
    "        dy = particles[ip].y - <real_t> iy\n",
    "\n",
    "        tx = 1.0 - dx\n",
    "        ty = 1.0 - dy\n",
    "\n",
    "        iy = iy - grid.noff\n",
    "\n",
    "        ix = ix + grid.lbx\n",
    "        iy = iy + grid.lby\n",
    "\n",
    "        density[iy  , ix  ] += ty*tx\n",
    "        density[iy  , ix+1] += ty*dx\n",
    "        density[iy+1, ix  ] += dy*tx\n",
    "        density[iy+1, ix+1] += dy*dx\n",
    "\n",
    "        J[iy  , ix  ].x += ty*tx*(particles[ip].vx + S*particles[ip].y)\n",
    "        J[iy  , ix+1].x += ty*dx*(particles[ip].vx + S*particles[ip].y)\n",
    "        J[iy+1, ix  ].x += dy*tx*(particles[ip].vx + S*particles[ip].y)\n",
    "        J[iy+1, ix+1].x += dy*dx*(particles[ip].vx + S*particles[ip].y)\n",
    "\n",
    "        J[iy  , ix  ].y += ty*tx*particles[ip].vy\n",
    "        J[iy  , ix+1].y += ty*dx*particles[ip].vy\n",
    "        J[iy+1, ix  ].y += dy*tx*particles[ip].vy\n",
    "        J[iy+1, ix+1].y += dy*dx*particles[ip].vy\n",
    "\n",
    "        J[iy  , ix  ].z += ty*tx*particles[ip].vz\n",
    "        J[iy  , ix+1].z += ty*dx*particles[ip].vz\n",
    "        J[iy+1, ix  ].z += dy*tx*particles[ip].vz\n",
    "        J[iy+1, ix+1].z += dy*dx*particles[ip].vz"
   ]
  },
  {
   "cell_type": "code",
   "execution_count": 61,
   "metadata": {
    "collapsed": false
   },
   "outputs": [],
   "source": [
    "class Grid(grid_t):\n",
    "    def __init__(self, nx, ny):\n",
    "        self.noff = 0\n",
    "        self.lbx = 1\n",
    "        self.lby = 1\n",
    "        self.nx = nx\n",
    "        self.ny = ny\n",
    "\n",
    "nx = 256\n",
    "ny = 256\n",
    "grid = Grid(nx, ny)"
   ]
  },
  {
   "cell_type": "code",
   "execution_count": 64,
   "metadata": {
    "collapsed": false
   },
   "outputs": [],
   "source": [
    "import numpy as np\n",
    "Float = np.double\n",
    "Float2 = [('x', Float), ('y', Float), ('z', Float)]\n",
    "\n",
    "Particle = np.dtype(\n",
    "    [('x', Float), ('y', Float), ('vx', Float), ('vy', Float),\n",
    "    ('vz', Float)], align=True)\n",
    "\n",
    "npc = 256\n",
    "N = nx*ny*npc\n",
    "particles = np.empty(N, dtype=Particle)"
   ]
  },
  {
   "cell_type": "code",
   "execution_count": 65,
   "metadata": {
    "collapsed": false
   },
   "outputs": [],
   "source": [
    "sqrt_npc = int(np.sqrt(npc))\n",
    "assert sqrt_npc**2 == npc\n",
    "dx = dy = 1/sqrt_npc\n",
    "x, y = np.meshgrid(\n",
    "    nx*np.arange(sqrt_npc+0.5)/sqrt_npc,\n",
    "    ny*np.arange(sqrt_npc+0.5)/sqrt_npc)\n",
    "\n",
    "x, y = np.meshgrid(\n",
    "    (np.arange(nx*sqrt_npc) + 0.5)/sqrt_npc,\n",
    "    (np.arange(ny*sqrt_npc) + 0.5)/sqrt_npc)\n",
    "\n",
    "particles['x'] = x.flatten()\n",
    "particles['y'] = y.flatten()"
   ]
  },
  {
   "cell_type": "code",
   "execution_count": 66,
   "metadata": {
    "collapsed": false
   },
   "outputs": [
    {
     "name": "stdout",
     "output_type": "stream",
     "text": [
      "10 loops, best of 3: 179 ms per loop\n"
     ]
    }
   ],
   "source": [
    "%%timeit -n 10 rho = np.zeros((ny + 2, nx + 2), dtype=Float); J = np.zeros((ny + 2, nx + 2), dtype=Float2);\n",
    "deposit_inline(particles, rho, J, grid, 0.0)"
   ]
  },
  {
   "cell_type": "code",
   "execution_count": 67,
   "metadata": {
    "collapsed": false
   },
   "outputs": [
    {
     "name": "stdout",
     "output_type": "stream",
     "text": [
      "10 loops, best of 3: 178 ms per loop\n"
     ]
    }
   ],
   "source": [
    "%%timeit -n 10 rho = np.zeros((ny + 2, nx + 2), dtype=Float); J = np.zeros((ny + 2, nx + 2), dtype=Float2);\n",
    "deposit(particles, rho, J, grid, 0.0)"
   ]
  },
  {
   "cell_type": "code",
   "execution_count": 68,
   "metadata": {
    "collapsed": true
   },
   "outputs": [],
   "source": [
    "particles['x'] = np.random.uniform(size=N)*nx\n",
    "particles['y'] = np.random.uniform(size=N)*ny"
   ]
  },
  {
   "cell_type": "code",
   "execution_count": 71,
   "metadata": {
    "collapsed": false
   },
   "outputs": [
    {
     "name": "stdout",
     "output_type": "stream",
     "text": [
      "10 loops, best of 3: 285 ms per loop\n"
     ]
    }
   ],
   "source": [
    "%%timeit -n 10 rho = np.zeros((ny + 2, nx + 2), dtype=Float); J = np.zeros((ny + 2, nx + 2), dtype=Float2);\n",
    "deposit_inline(particles, rho, J, grid, 0.0)"
   ]
  },
  {
   "cell_type": "code",
   "execution_count": 72,
   "metadata": {
    "collapsed": false
   },
   "outputs": [
    {
     "name": "stdout",
     "output_type": "stream",
     "text": [
      "10 loops, best of 3: 291 ms per loop\n"
     ]
    }
   ],
   "source": [
    "%%timeit -n 10 rho = np.zeros((ny + 2, nx + 2), dtype=Float); J = np.zeros((ny + 2, nx + 2), dtype=Float2);\n",
    "deposit(particles, rho, J, grid, 0.0)"
   ]
  },
  {
   "cell_type": "code",
   "execution_count": null,
   "metadata": {
    "collapsed": true
   },
   "outputs": [],
   "source": []
  }
 ],
 "metadata": {
  "kernelspec": {
   "display_name": "Python 3",
   "language": "python",
   "name": "python3"
  },
  "language_info": {
   "codemirror_mode": {
    "name": "ipython",
    "version": 3
   },
   "file_extension": ".py",
   "mimetype": "text/x-python",
   "name": "python",
   "nbconvert_exporter": "python",
   "pygments_lexer": "ipython3",
   "version": "3.5.2"
  }
 },
 "nbformat": 4,
 "nbformat_minor": 2
}
