{
 "cells": [
  {
   "cell_type": "code",
   "execution_count": 1,
   "metadata": {
    "collapsed": false
   },
   "outputs": [],
   "source": [
    "from ipyparallel import Client\n",
    "rc = Client(profile=\"mpi\")"
   ]
  },
  {
   "cell_type": "code",
   "execution_count": 2,
   "metadata": {
    "collapsed": false
   },
   "outputs": [
    {
     "name": "stdout",
     "output_type": "stream",
     "text": [
      "importing MPI from mpi4py on engine(s)\n",
      "importing rand,randn from numpy.random on engine(s)\n",
      "importing cppinit,Field,Float,Float2,Grid,Particles,Sources from skeletor on engine(s)\n"
     ]
    }
   ],
   "source": [
    "with rc[:].sync_imports():\n",
    "    from mpi4py import MPI\n",
    "    from numpy.random import rand, randn\n",
    "    from skeletor import cppinit, Field, Float, Float2, Grid, Particles, Sources"
   ]
  },
  {
   "cell_type": "code",
   "execution_count": 3,
   "metadata": {
    "collapsed": true
   },
   "outputs": [],
   "source": [
    "%%px\n",
    "\n",
    "def prepare1(nx=64, ny=64, npc=512, vtx=1.0, vty=1.0, comm=MPI.COMM_WORLD):\n",
    "\n",
    "    idproc, nvp = cppinit(comm)\n",
    "\n",
    "    grid = Grid(nx, ny, comm)\n",
    "\n",
    "    npar = npc*nx*ny\n",
    "    npmax = int(1.5*npar/nvp)\n",
    "    ions = Particles(npmax)\n",
    "\n",
    "    sources = Sources(grid, comm, dtype=Float)\n",
    "\n",
    "    x = nx*rand(npar).astype(Float)\n",
    "    y = ny*rand(npar).astype(Float)\n",
    "    vx = vtx*randn(npar).astype(Float)\n",
    "    vy = vty*randn(npar).astype(Float)\n",
    "\n",
    "    ions.initialize(x, y, vx, vy, grid)\n",
    "    \n",
    "    sources.rho.fill(0.0)\n",
    "    \n",
    "    return ions, sources"
   ]
  },
  {
   "cell_type": "code",
   "execution_count": 4,
   "metadata": {
    "collapsed": false
   },
   "outputs": [
    {
     "name": "stdout",
     "output_type": "stream",
     "text": [
      "100 loops, best of 3: 27.1 ms per loop\n"
     ]
    }
   ],
   "source": [
    "%%timeit -n 100 %px ions, sources = prepare1()\n",
    "%px sources.deposit(ions, erase=False)"
   ]
  },
  {
   "cell_type": "code",
   "execution_count": 5,
   "metadata": {
    "collapsed": false
   },
   "outputs": [
    {
     "name": "stdout",
     "output_type": "stream",
     "text": [
      "100 loops, best of 3: 18.2 ms per loop\n"
     ]
    }
   ],
   "source": [
    "%%timeit -n 100 %px ions, sources = prepare1()\n",
    "%px sources.deposit_ppic2(ions, erase=False)"
   ]
  },
  {
   "cell_type": "code",
   "execution_count": 6,
   "metadata": {
    "collapsed": false
   },
   "outputs": [],
   "source": [
    "%%px\n",
    "\n",
    "def prepare2(nx=1024, ny=1024, comm=MPI.COMM_WORLD):\n",
    "\n",
    "    idproc, nvp = cppinit(comm)\n",
    "\n",
    "    grid = Grid(nx, ny, comm)\n",
    "\n",
    "    rho = Field(grid, comm, dtype=Float)\n",
    "    rho[:,:] = randn(*rho.shape)\n",
    "    \n",
    "    return rho"
   ]
  },
  {
   "cell_type": "code",
   "execution_count": 7,
   "metadata": {
    "collapsed": false
   },
   "outputs": [
    {
     "name": "stdout",
     "output_type": "stream",
     "text": [
      "100 loops, best of 3: 9.86 ms per loop\n"
     ]
    }
   ],
   "source": [
    "%%timeit -n 100 %px rho = prepare2()\n",
    "%px rho.add_guards()"
   ]
  },
  {
   "cell_type": "code",
   "execution_count": 8,
   "metadata": {
    "collapsed": false
   },
   "outputs": [
    {
     "name": "stdout",
     "output_type": "stream",
     "text": [
      "100 loops, best of 3: 9.95 ms per loop\n"
     ]
    }
   ],
   "source": [
    "%%timeit -n 100 %px rho = prepare2()\n",
    "%px rho.add_guards2()"
   ]
  },
  {
   "cell_type": "code",
   "execution_count": 9,
   "metadata": {
    "collapsed": false
   },
   "outputs": [
    {
     "name": "stdout",
     "output_type": "stream",
     "text": [
      "100 loops, best of 3: 9.49 ms per loop\n"
     ]
    }
   ],
   "source": [
    "%%timeit -n 100 %px rho = prepare2()\n",
    "%px rho.add_guards_ppic2()"
   ]
  },
  {
   "cell_type": "code",
   "execution_count": 10,
   "metadata": {
    "collapsed": false
   },
   "outputs": [],
   "source": [
    "%%px\n",
    "\n",
    "def prepare3(nx=1024, ny=1024, comm=MPI.COMM_WORLD):\n",
    "\n",
    "    idproc, nvp = cppinit(comm)\n",
    "\n",
    "    grid = Grid(nx, ny, comm)\n",
    "\n",
    "    E = Field(grid, comm, dtype=Float2)\n",
    "\n",
    "    E[:,:][\"x\"] = randn(*E.shape)\n",
    "    E[:,:][\"y\"] = randn(*E.shape)\n",
    "    \n",
    "    return E"
   ]
  },
  {
   "cell_type": "code",
   "execution_count": 11,
   "metadata": {
    "collapsed": false
   },
   "outputs": [
    {
     "name": "stdout",
     "output_type": "stream",
     "text": [
      "100 loops, best of 3: 10.1 ms per loop\n"
     ]
    }
   ],
   "source": [
    "%%timeit -n 100 %px E = prepare3()\n",
    "%px E.copy_guards()"
   ]
  },
  {
   "cell_type": "code",
   "execution_count": 12,
   "metadata": {
    "collapsed": false
   },
   "outputs": [
    {
     "name": "stdout",
     "output_type": "stream",
     "text": [
      "100 loops, best of 3: 10 ms per loop\n"
     ]
    }
   ],
   "source": [
    "%%timeit -n 100 %px E = prepare3()\n",
    "%px E.copy_guards2()"
   ]
  },
  {
   "cell_type": "code",
   "execution_count": 13,
   "metadata": {
    "collapsed": false
   },
   "outputs": [
    {
     "name": "stdout",
     "output_type": "stream",
     "text": [
      "100 loops, best of 3: 9.37 ms per loop\n"
     ]
    }
   ],
   "source": [
    "%%timeit -n 100 %px E = prepare3()\n",
    "%px E.copy_guards_ppic2()"
   ]
  },
  {
   "cell_type": "code",
   "execution_count": null,
   "metadata": {
    "collapsed": true
   },
   "outputs": [],
   "source": []
  }
 ],
 "metadata": {
  "kernelspec": {
   "display_name": "Python 3",
   "language": "python",
   "name": "python3"
  },
  "language_info": {
   "codemirror_mode": {
    "name": "ipython",
    "version": 3
   },
   "file_extension": ".py",
   "mimetype": "text/x-python",
   "name": "python",
   "nbconvert_exporter": "python",
   "pygments_lexer": "ipython3",
   "version": "3.5.2"
  }
 },
 "nbformat": 4,
 "nbformat_minor": 0
}
